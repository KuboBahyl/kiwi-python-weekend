{
 "cells": [
  {
   "cell_type": "markdown",
   "metadata": {},
   "source": [
    "### Best practices:\n",
    "* not let python load the csv headers - rather set it manually\n",
    "* add stuff to dicts viac dict.update(), not directly dict['new_key'] = 'new_value'\n",
    "* Abstract Base Classes for Containers - https://docs.python.org/3/library/collections.abc.html\n",
    "* mypy - http://mypy-lang.org/\n",
    "* pyflame - https://github.com/uber/pyflame\n",
    "* monkey type - https://github.com/Instagram/MonkeyType\n",
    "* pipenv - https://github.com/pypa/pipenv"
   ]
  },
  {
   "cell_type": "code",
   "execution_count": 47,
   "metadata": {},
   "outputs": [
    {
     "name": "stdout",
     "output_type": "stream",
     "text": [
      "3.406897783279419\n"
     ]
    }
   ],
   "source": [
    "from time import time\n",
    "time0 = time()\n",
    "for i in range(int(1e8)):\n",
    "    pass\n",
    "print(time() - time0)"
   ]
  },
  {
   "cell_type": "markdown",
   "metadata": {},
   "source": [
    "### `is` compare object ids:"
   ]
  },
  {
   "cell_type": "code",
   "execution_count": 36,
   "metadata": {},
   "outputs": [
    {
     "data": {
      "text/plain": [
       "4485335760"
      ]
     },
     "execution_count": 36,
     "metadata": {},
     "output_type": "execute_result"
    }
   ],
   "source": [
    "a = 2\n",
    "id(a)"
   ]
  },
  {
   "cell_type": "code",
   "execution_count": 37,
   "metadata": {},
   "outputs": [
    {
     "data": {
      "text/plain": [
       "4485335760"
      ]
     },
     "execution_count": 37,
     "metadata": {},
     "output_type": "execute_result"
    }
   ],
   "source": [
    "b = 2\n",
    "id(b)"
   ]
  },
  {
   "cell_type": "code",
   "execution_count": 27,
   "metadata": {},
   "outputs": [
    {
     "data": {
      "text/plain": [
       "True"
      ]
     },
     "execution_count": 27,
     "metadata": {},
     "output_type": "execute_result"
    }
   ],
   "source": [
    "b is a"
   ]
  },
  {
   "cell_type": "markdown",
   "metadata": {},
   "source": [
    "### Emojis"
   ]
  },
  {
   "cell_type": "code",
   "execution_count": 39,
   "metadata": {},
   "outputs": [
    {
     "data": {
      "text/plain": [
       "'Matus works for 💊'"
      ]
     },
     "execution_count": 39,
     "metadata": {},
     "output_type": "execute_result"
    }
   ],
   "source": [
    "from emoji import emojize\n",
    "emojize('Matus works for :pill:')"
   ]
  },
  {
   "cell_type": "markdown",
   "metadata": {},
   "source": [
    "### Feedback on entry task\n",
    "Best practices:\n",
    "* use pipfile, requirements.txt (management)\n",
    "* functions, classes\n",
    "* tests\n",
    "* dockerfile (why?)"
   ]
  },
  {
   "cell_type": "markdown",
   "metadata": {},
   "source": [
    "### Requests, html"
   ]
  },
  {
   "cell_type": "code",
   "execution_count": 57,
   "metadata": {},
   "outputs": [
    {
     "data": {
      "text/plain": [
       "612"
      ]
     },
     "execution_count": 57,
     "metadata": {},
     "output_type": "execute_result"
    }
   ],
   "source": [
    "import requests\n",
    "import lxml.html as html\n",
    "import re\n",
    "\n",
    "r = requests.get('https://en.wikipedia.org/wiki/Tasmania')\n",
    "tree = html.fromstring(r.text)\n",
    "# number of li elements\n",
    "len(tree.cssselect('li'))"
   ]
  },
  {
   "cell_type": "code",
   "execution_count": 69,
   "metadata": {},
   "outputs": [],
   "source": [
    "# Beutiful soup\n",
    "from bs4 import BeautifulSoup\n",
    "\n",
    "link = 'https://en.wikipedia.org/wiki/Tasmania'\n",
    "page = requests.get(link)\n",
    "soup = BeautifulSoup(page.text, 'html.parser')"
   ]
  },
  {
   "cell_type": "markdown",
   "metadata": {},
   "source": [
    "### Alsa scraping"
   ]
  },
  {
   "cell_type": "code",
   "execution_count": 183,
   "metadata": {},
   "outputs": [
    {
     "name": "stdout",
     "output_type": "stream",
     "text": [
      "{'arrival_time': '13/09/2018 07:19',\n",
      " 'departure_time': '13/09/2018 00:14',\n",
      " 'from': 'Madrid - Barajas Airport T4',\n",
      " 'price': 90.0,\n",
      " 'to': 'Barcelona Sants Station',\n",
      " 'type': 'bus'}\n"
     ]
    }
   ],
   "source": [
    "from pprint import pprint\n",
    "from urllib.parse import parse_qs, urlparse, urlencode\n",
    "import requests_html\n",
    "url = 'https://www.alsa.com/en/web/bus/home'\n",
    "\n",
    "user_dep = 'Madrid (All stops)'\n",
    "user_dest = 'Barcelona (All stops)'\n",
    "user_time_dep = '09/13/2018' # mm/dd/yyyy\n",
    "user_passengers = 2\n",
    "\n",
    "url_locations = 'https://www.alsa.com/en/c/portal/layout?p_l_id=70167&p_p_cacheability=cacheLevelPage&p_p_id=JourneySearchPortlet_WAR_Alsaportlet&p_p_lifecycle=2&p_p_resource_id=JsonGetOrigins&locationMode=1&_=1536399884758'\n",
    "locations_json = requests.get(url_locations).json()\n",
    "\n",
    "def get_id(city):\n",
    "    for location in locations_json:\n",
    "        if location['name'] == city:\n",
    "            return location['id']\n",
    "\n",
    "# build query\n",
    "url_template = 'https://www.alsa.com/en/web/bus/checkout?p_auth=9wzyfRYp&p_p_id=PurchasePortlet_WAR_Alsaportlet&p_p_lifecycle=1&p_p_state=normal&p_p_mode=view&p_p_col_id=column-1&p_p_col_count=3&_PurchasePortlet_WAR_Alsaportlet_javax.portlet.action=searchJourneysAction&code=&serviceType=&accessible=0&originStationNameId=Madrid+(All+stops)&destinationStationNameId=Barcelona+(All+stops)&originStationId=90155&destinationStationId=90595&departureDate=09%2F09%2F2018&_departureDate=09%2F09%2F2018&returnDate=&_returnDate=&locationMode=1&passengerType-1=1&passengerType-4=0&passengerType-5=0&passengerType-2=0&passengerType-3=0&numPassengers=1&regionalZone=&travelType=OUTWARD&LIFERAY_SHARED_isTrainTrip=false&promoCode=&jsonAlsaPassPassenger=&jsonVoucherPassenger='\n",
    "query_dict = parse_qs(urlparse(url_template).query)\n",
    "for key, value in query_dict.items():\n",
    "    query_dict[key] = value[0]\n",
    "\n",
    "# update query\n",
    "query_dict['originStationNameId'] = user_dep\n",
    "query_dict['originStationId'] = get_id(user_dep)\n",
    "query_dict['destinationStationNameId'] = user_dest\n",
    "query_dict['destinationStationId'] = get_id(user_dest)\n",
    "query_dict['departureDate'] = user_time_dep\n",
    "query_dict['_departureDate'] = user_time_dep\n",
    "query_dict['passengerType-1'] = user_passengers\n",
    "\n",
    "# pprint(query_dict)\n",
    "query_string = urlencode(query_dict)\n",
    "\n",
    "from requests_html import HTMLSession\n",
    "session = HTMLSession()\n",
    "page = session.get('https://www.alsa.com/en/web/bus/checkout?', params=query_string)\n",
    "url_results = page.html.find('data-sag-journeys-component', first=True).attrs['sag-journeys-table-body-url']\n",
    "\n",
    "results_json = session.get(url_results).json()\n",
    "result = results_json['journeys'][0]\n",
    "\n",
    "output = {'departure_time': result['departureDataToFilter'],\n",
    "         'arrival_time': result['arrivalDataToFilter'],\n",
    "         'from': result['originName'],\n",
    "         'to': result['destinationName'],\n",
    "         'type': 'bus' if 'busCharacteristic' in result else 'train',\n",
    "         'price': result['fares'][0]['price'],\n",
    "         }\n",
    "\n",
    "pprint(output)\n"
   ]
  },
  {
   "cell_type": "markdown",
   "metadata": {},
   "source": [
    "### Redis database\n",
    "* stores stuff in RAM\n",
    "* as a pip package for P3 - redis\n",
    "* useful for caching - when loading from cache and missing, fetch from source and save in cache"
   ]
  },
  {
   "cell_type": "code",
   "execution_count": 263,
   "metadata": {},
   "outputs": [
    {
     "data": {
      "text/plain": [
       "b'True'"
      ]
     },
     "execution_count": 263,
     "metadata": {},
     "output_type": "execute_result"
    }
   ],
   "source": [
    "from redis import StrictRedis\n",
    "\n",
    "redis_config = {\n",
    "    'host': '35.198.72.72',\n",
    "    'port': 3389\n",
    "}\n",
    "\n",
    "redis = StrictRedis(socket_connect_timeout=3, **redis_config)\n",
    "\n",
    "redis.set('Exponea power', True)\n",
    "redis.get('Exponea power')"
   ]
  },
  {
   "cell_type": "code",
   "execution_count": 289,
   "metadata": {},
   "outputs": [
    {
     "data": {
      "text/plain": [
       "b'90595'"
      ]
     },
     "execution_count": 289,
     "metadata": {},
     "output_type": "execute_result"
    }
   ],
   "source": [
    "redis.get('city_id_barcelona_all_stops')"
   ]
  },
  {
   "cell_type": "code",
   "execution_count": 287,
   "metadata": {},
   "outputs": [
    {
     "data": {
      "text/plain": [
       "[b'journey_id_madrid-all-stops',\n",
       " b'madrid_all_stops',\n",
       " b'city_id_madrid',\n",
       " b'city_id_aeropuerto-madrid-barajas-t4',\n",
       " b'city_id_madrid_all_stops',\n",
       " b'aero_madrid_barajas_t2_llegada']"
      ]
     },
     "execution_count": 287,
     "metadata": {},
     "output_type": "execute_result"
    }
   ],
   "source": [
    "redis.keys('*madrid*')"
   ]
  },
  {
   "cell_type": "code",
   "execution_count": 279,
   "metadata": {},
   "outputs": [
    {
     "data": {
      "text/plain": [
       "'{\"dep\": \"2018-10-20 01:00:00\", \"arr\": \"2018-10-20 08:35:00\", \"dst\": \"Madrid - Barajas Airport T4\", \"src\": \"Barcelona Estaci\\\\u00f3n Nord\", \"type\": \"bus\", \"price\": 32.71, \"dst_id\": 5555, \"src_id\": 595}'"
      ]
     },
     "execution_count": 279,
     "metadata": {},
     "output_type": "execute_result"
    }
   ],
   "source": [
    "redis.get('journey_94600_94600_2018-10-20').decode('utf-8')"
   ]
  },
  {
   "cell_type": "markdown",
   "metadata": {},
   "source": [
    "### API\n",
    "* technologies cacommunicate with each other\n",
    "* using http methods Get Post"
   ]
  },
  {
   "cell_type": "code",
   "execution_count": 278,
   "metadata": {},
   "outputs": [
    {
     "data": {
      "text/plain": [
       "'34-34-34'"
      ]
     },
     "execution_count": 278,
     "metadata": {},
     "output_type": "execute_result"
    }
   ],
   "source": [
    "'34/34/34'.replace('/', '-')"
   ]
  },
  {
   "cell_type": "markdown",
   "metadata": {},
   "source": [
    "### Delivering great app\n",
    "* automate as much as I can\n",
    "* \n",
    "* Datadog - collects pings from application, creates metrics, dashboards, graphs, alarms. Works with python, it's free\n",
    "* Sentry - collects errors, integrated with Flask, it's free\n",
    "* Elastic search - not relational database, extremely powerful\n",
    "* black - code formatter, deals with quotes, breaking lines, brackets,...\n",
    "* coala - "
   ]
  }
 ],
 "metadata": {
  "kernelspec": {
   "display_name": "Python 3",
   "language": "python",
   "name": "python3"
  },
  "language_info": {
   "codemirror_mode": {
    "name": "ipython",
    "version": 3
   },
   "file_extension": ".py",
   "mimetype": "text/x-python",
   "name": "python",
   "nbconvert_exporter": "python",
   "pygments_lexer": "ipython3",
   "version": "3.6.5"
  }
 },
 "nbformat": 4,
 "nbformat_minor": 2
}
